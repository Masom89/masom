{
  "nbformat": 4,
  "nbformat_minor": 0,
  "metadata": {
    "colab": {
      "provenance": [],
      "authorship_tag": "ABX9TyMCOzjDJoXShWIgWmTyBkvx",
      "include_colab_link": true
    },
    "kernelspec": {
      "name": "python3",
      "display_name": "Python 3"
    },
    "language_info": {
      "name": "python"
    }
  },
  "cells": [
    {
      "cell_type": "markdown",
      "metadata": {
        "id": "view-in-github",
        "colab_type": "text"
      },
      "source": [
        "<a href=\"https://colab.research.google.com/github/Masom89/masom/blob/main/Untitled4.ipynb\" target=\"_parent\"><img src=\"https://colab.research.google.com/assets/colab-badge.svg\" alt=\"Open In Colab\"/></a>"
      ]
    },
    {
      "cell_type": "code",
      "execution_count": null,
      "metadata": {
        "id": "fZkHTMcfL1B4"
      },
      "outputs": [],
      "source": [
        "from trensor flow.keras import datasets,models, layers,opttimizers,losses,untils\n",
        "from numpy.lib import utils\n",
        "from numpy.ma.core import reshape\n",
        "import matplotlib.pyplot as plt\n",
        "import numpy as np\n",
        "(trn_img,trn_lbl),(tst_img,tst_lbl)=datasets.mnist.load_data()\n",
        "x_train= trn_img.reshape (60000,784)\n",
        "x_test=tst_img.reshape (10000,784)\n",
        "x_train=x_test.astype('float32')/255\n",
        "x_test=x_test.astype('float32')/255\n",
        "y_train= utils.to_categorical(trn_lbl)\n",
        "y_test= utils.to_categorical(tst_lbl)\n",
        "M1=Models.sequentiol()\n",
        "M1.add(layers.dense(500,activation)='relu',input.shape=(784,1))\n",
        "M1.add(largers.dense(250,activation='relu'))\n",
        "M1.add(largers.dense(10,activation='sofmax'))\n",
        "M1.compile(optimizer=optimizer.legacy.sgd(lv=0.0001), looss=losses.catrgorical_crossentropy)\n",
        "out=M1.fit(x.train,y_train,bath_size=128,epochs=20,validation_split=.2)\n",
        "test_loss=M1.evaluate(x_test,y_test)\n",
        "print(test_loss)\n",
        "test_lbl_p=M1.predict(x_test)\n",
        "test_lbl_p=np.argmax(test(test.lbl.p))"
      ]
    }
  ]
}